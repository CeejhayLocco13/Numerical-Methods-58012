{
  "nbformat": 4,
  "nbformat_minor": 0,
  "metadata": {
    "colab": {
      "name": "Midterm Exam Program1.ipynb",
      "provenance": [],
      "authorship_tag": "ABX9TyN2kIr5jW6XsaUrFJejsXOh",
      "include_colab_link": true
    },
    "kernelspec": {
      "name": "python3",
      "display_name": "Python 3"
    },
    "language_info": {
      "name": "python"
    }
  },
  "cells": [
    {
      "cell_type": "markdown",
      "metadata": {
        "id": "view-in-github",
        "colab_type": "text"
      },
      "source": [
        "<a href=\"https://colab.research.google.com/github/CeejhayLocco13/Numerical-Methods-58012/blob/main/Midterm_Exam.ipynb\" target=\"_parent\"><img src=\"https://colab.research.google.com/assets/colab-badge.svg\" alt=\"Open In Colab\"/></a>"
      ]
    },
    {
      "cell_type": "markdown",
      "source": [
        "Program 1 "
      ],
      "metadata": {
        "id": "5sX99t4DwzBa"
      }
    },
    {
      "cell_type": "code",
      "execution_count": 1,
      "metadata": {
        "colab": {
          "base_uri": "https://localhost:8080/"
        },
        "id": "f-j9XwfOqxxy",
        "outputId": "83260a8f-6fa6-4dae-8c7c-a03c4de99a51"
      },
      "outputs": [
        {
          "output_type": "stream",
          "name": "stdout",
          "text": [
            "Enter the temperature in Celsius: 97\n",
            "370.15 Kelvin\n",
            "206.6 Fahrenheit\n",
            "Enter the temperature in Fahrenheit: 89\n",
            "31.666666666666668Celcius\n",
            "Enter the temperature in Kelvin: 79\n",
            "352.15Celcius\n"
          ]
        }
      ],
      "source": [
        "def main():\n",
        "\n",
        "  \n",
        "\n",
        " class TemperatureConversion:\n",
        "\n",
        "  def __init__(self, temp=1):\n",
        "\n",
        "   self._temp = temp\n",
        "\n",
        " class CelsiusToFahrenheit(TemperatureConversion):\n",
        "\n",
        "  def conversion(self):\n",
        "\n",
        "   return (self._temp * 9) / 5 + 32\n",
        "\n",
        " class CelsiusToKelvin(TemperatureConversion):\n",
        "\n",
        "  def conversion(self):\n",
        "\n",
        "   return self._temp + 273.15\n",
        "\n",
        " tempInCelsius = float(input(\"Enter the temperature in Celsius: \"))\n",
        "\n",
        " convert = CelsiusToKelvin(tempInCelsius)\n",
        "\n",
        " print(str(convert.conversion()) + \" Kelvin\")\n",
        "\n",
        " convert = CelsiusToFahrenheit(tempInCelsius)\n",
        "\n",
        " print(str(convert.conversion()) + \" Fahrenheit\")\n",
        "\n",
        " class FahrenheitToCelsius(TemperatureConversion):\n",
        "\n",
        "  def conversion(self):\n",
        "\n",
        "   return (self._temp - 32) * 5 / 9\n",
        "\n",
        " class KelvinToCelsius(TemperatureConversion):\n",
        "\n",
        "  def conversion(self):\n",
        "\n",
        "   return (self._temp + 273.15)\n",
        "           \n",
        " tempInFahrenheit = float(input(\"Enter the temperature in Fahrenheit: \"))\n",
        " \n",
        " convert = FahrenheitToCelsius(tempInFahrenheit)\n",
        "\n",
        " print(str(convert.conversion()) + \"Celcius\")\n",
        "\n",
        " tempInKelvin = float(input(\"Enter the temperature in Kelvin: \"))\n",
        "\n",
        " convert = KelvinToCelsius(tempInKelvin)\n",
        "\n",
        " print(str(convert.conversion()) + \"Celcius\")\n",
        "\n",
        "\n",
        "\n",
        "main()"
      ]
    },
    {
      "cell_type": "markdown",
      "source": [
        "Program 2"
      ],
      "metadata": {
        "id": "bF9QPHDnwvAq"
      }
    },
    {
      "cell_type": "code",
      "source": [
        "from tkinter import *\n",
        "\n",
        "def action():\n",
        "    name = entryName.get()\n",
        "    lblDisplay['text'] =  name\n",
        "\n",
        "\n",
        "window = Tk()\n",
        "window.title('Midterm in OOP')\n",
        "window.geometry(\"500x200\")\n",
        "\n",
        "\n",
        "lblName = Label(window , text= \"Enter your fullname : \" , width = 20, fg='black' )\n",
        "lblName.place(x = 10 , y = 50)\n",
        "entryName = Entry(window, width = 30)\n",
        "entryName.place(x = 250 , y = 50)\n",
        "\n",
        "\n",
        "lblDisplay = Label(window)\n",
        "lblDisplay.place(x = 250 , y = 100)\n",
        "\n",
        "\n",
        "btnAction = Button(window , text = \"Click to display yor Fullname\" , width = 25 , fg='blue', command = action)\n",
        "btnAction.place(x = 10 , y = 100)\n",
        "\n",
        "window.mainloop()"
      ],
      "metadata": {
        "id": "b5vrV1tLwxaq"
      },
      "execution_count": null,
      "outputs": []
    }
  ]
}